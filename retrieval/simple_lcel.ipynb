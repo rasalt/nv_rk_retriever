{
 "cells": [
  {
   "cell_type": "markdown",
   "metadata": {},
   "source": [
    "# Getting Started with the Nemo Retriever \"Retriever\" microservice\n",
    "## Demonstration of simple LCEL\n",
    "|rkharwar@nvidia.com| Author(s) | [Ruchika Kharwar](https://github.com/rasalt)\n",
    "\n",
    "NOTE: This notebook has been tested in the following environment:\n",
    "Python version = 3.10.8"
   ]
  },
  {
   "cell_type": "markdown",
   "metadata": {},
   "source": [
    "## Overview\n",
    "\n",
    "<TBD> \n",
    "\n",
    "## Objective\n",
    "This notebook aims to show you how to leverage the retriever microservice to implement a simple LCEL.\n",
    "These examples aim to be building blocks of the larger solution you will likley have in place for yout Generative AI use case.\n",
    "\n",
    "## Before you begin\n",
    "### Set up your environment.\n",
    "Refer to page <> for details on how to deploy the service.\n",
    "You should have docker services running in your environment thus  \n",
    "\n",
    "docker                         dockerd                        dockerd-rootless-setuptool.sh  dockerd-rootless.sh            docker-proxy                   \n",
    "nvidia@dev-h100-rkharwar-gpu01:~/retriever_03182024/docker-compose$ docker compose -f \n",
    "config/                      docker-compose-ea.yaml       docker-compose-nemollm.yaml  models/                      models_orig/                 volumes/                     \n",
    "nvidia@dev-h100-rkharwar-gpu01:~/retriever_03182024/docker-compose$ docker compose -f docker-compose-ea.yaml ps\n",
    "NAME                              IMAGE                                                                              COMMAND                  SERVICE          CREATED        STATUS                    PORTS\n",
    "docker-compose-elasticsearch-1    docker.elastic.co/elasticsearch/elasticsearch:8.12.0                               \"/bin/tini -- /usr/l…\"   elasticsearch    21 hours ago   Up 21 hours (healthy)     0.0.0.0:9200->9200/tcp, :::9200->9200/tcp, 9300/tcp\n",
    "docker-compose-embedding-ms-1     nvcr.io/ohlfw0olaadg/ea-participants/nemo-retriever-embedding-microservice:24.02   \"/opt/nvidia/nvidia_…\"   embedding-ms     21 hours ago   Up 21 hours (healthy)     \n",
    "docker-compose-etcd-1             quay.io/coreos/etcd:v3.5.11                                                        \"etcd -advertise-cli…\"   etcd             21 hours ago   Up 21 hours (healthy)     2379-2380/tcp\n",
    "docker-compose-milvus-1           milvusdb/milvus:v2.3.5                                                             \"/tini -- milvus run…\"   milvus           21 hours ago   Up 21 hours (healthy)     \n",
    "docker-compose-minio-1            minio/minio:RELEASE.2023-03-20T20-16-18Z                                           \"/usr/bin/docker-ent…\"   minio            21 hours ago   Up 21 hours (healthy)     9000/tcp\n",
    "docker-compose-otel-collector-1   otel/opentelemetry-collector-contrib:0.91.0                                        \"/otelcol-contrib --…\"   otel-collector   21 hours ago   Up 21 hours               0.0.0.0:4317->4317/tcp, :::4317->4317/tcp, 0.0.0.0:13133->13133/tcp, :::13133->13133/tcp, 0.0.0.0:55679->55679/tcp, :::55679->55679/tcp, 55678/tcp\n",
    "docker-compose-postgres-1         postgres:16.1                                                                      \"docker-entrypoint.s…\"   postgres         21 hours ago   Up 21 hours               0.0.0.0:5432->5432/tcp, :::5432->5432/tcp\n",
    "docker-compose-retrieval-ms-1     nvcr.io/ohlfw0olaadg/ea-participants/nemo-retriever-microservice:24.02             \"/usr/bin/shelless_u…\"   retrieval-ms     21 hours ago   Up 21 hours (unhealthy)   0.0.0.0:1984->8000/tcp, :::1984->8000/tcp\n",
    "docker-compose-tika-1             apache/tika:2.9.1.0                                                                \"/bin/sh -c 'exec ja…\"   tika             21 hours ago   Up 21 hours               0.0.0.0:9998->9998/tcp, :::9998->9998/tcp\n",
    "docker-compose-zipkin-1           openzipkin/zipkin:3.0.6                                                            \"start-zipkin\"           zipkin           21 hours ago   Up 21 hours (healthy)     9410/tcp, 0.0.0.0:9411->9411/tcp, :::9411->9411/tcp"
   ]
  },
  {
   "cell_type": "markdown",
   "metadata": {},
   "source": [
    "### Get the NVIDIA API Catalog key\n",
    "Reference: https://python.langchain.com/docs/integrations/text_embedding/nvidia_ai_endpoints"
   ]
  },
  {
   "cell_type": "code",
   "execution_count": 48,
   "metadata": {},
   "outputs": [
    {
     "name": "stdout",
     "output_type": "stream",
     "text": [
      "Valid NVIDIA_API_KEY already in environment. Delete to reset\n"
     ]
    }
   ],
   "source": [
    "import getpass\n",
    "import os\n",
    "\n",
    "## API Key can be found by going to NVIDIA NGC -> AI Foundation Models -> (some model) -> Get API Code or similar.\n",
    "## 10K free queries to any endpoint (which is a lot actually).\n",
    "\n",
    "# del os.environ['NVIDIA_API_KEY']  ## delete key and reset\n",
    "if os.environ.get(\"NVIDIA_API_KEY\", \"\").startswith(\"nvapi-\"):\n",
    "    print(\"Valid NVIDIA_API_KEY already in environment. Delete to reset\")\n",
    "else:\n",
    "    nvapi_key = getpass.getpass(\"NVAPI Key (starts with nvapi-): \")\n",
    "    assert nvapi_key.startswith(\"nvapi-\"), f\"{nvapi_key[:5]}... is not a valid key\"\n",
    "    os.environ[\"NVIDIA_API_KEY\"] = nvapi_key"
   ]
  },
  {
   "cell_type": "markdown",
   "metadata": {},
   "source": [
    "### Setup the LLM with Nvidia Model\n",
    "This could be replaced with a self hosted model"
   ]
  },
  {
   "cell_type": "code",
   "execution_count": 42,
   "metadata": {},
   "outputs": [],
   "source": [
    "from langchain_nvidia_ai_endpoints import ChatNVIDIA\n",
    "model = ChatNVIDIA(model=\"mixtral_8x7b\")\n",
    "#result = llm.invoke(\"Write a ballad about LangChain.\")\n",
    "#print(result.content)"
   ]
  },
  {
   "cell_type": "markdown",
   "metadata": {},
   "source": [
    "## Setup the retriever client\n",
    "- Initialize Client\n",
    "- Create a collection\n",
    "- Add a document to the collection"
   ]
  },
  {
   "cell_type": "code",
   "execution_count": 43,
   "metadata": {},
   "outputs": [
    {
     "name": "stdout",
     "output_type": "stream",
     "text": [
      "Collection id 7bbe611e-9464-475b-84dc-9ead098e8def created\n",
      "Added file 1: a5ac177509c786d782a0ae8c3224eed71d49ddaa62bc4a484388b0e0ae91cee7 to the collection\n"
     ]
    }
   ],
   "source": [
    "# Initialize the retriever\n",
    "from nemo_retriever.retriever_client import RetrieverClient\n",
    "from pprint import pprint\n",
    "\n",
    "retriever = RetrieverClient(base_url=\"http://localhost:1984\")\n",
    "\n",
    "# Create a collection with the hybrid pipeline type\n",
    "response = retriever.create_collection(pipeline=\"hybrid\", name=\"testCollection\")\n",
    "collection_id = response.collection.id  # store ID of the newly created collection\n",
    "print(\"Collection id {} created\".format(collection_id))\n",
    "\n",
    "# Add a pdf with metadata to the collection \n",
    "FILE1 = \"./files/python-basics-sample-chapters.pdf\"\n",
    "response = retriever.add_document(collection_id=collection_id,\n",
    "                                       filepath=FILE1,\n",
    "                                       format=\"pdf\",\n",
    "                                       metadata={\"title\": \"A practical introduction to python 3\",\n",
    "                                                 \"authors\": \"David Amos, Dan Bader, Joanna Jablonski, Fletcher Heisler\"})\n",
    "    \n",
    "created_document_id_1 = response.documents[0].id\n",
    "print(\"Added file 1: {} to the collection\".format(created_document_id_1))\n"
   ]
  },
  {
   "cell_type": "code",
   "execution_count": null,
   "metadata": {},
   "outputs": [],
   "source": [
    "## Retriever Test\n",
    "- Ensure retrieval functionality works"
   ]
  },
  {
   "cell_type": "code",
   "execution_count": 44,
   "metadata": {},
   "outputs": [
    {
     "name": "stdout",
     "output_type": "stream",
     "text": [
      "Chunk ID: 94c91d0995bc8d0a14d97400f3b7ba6e5f1377c8c5b5df9f3ff3fc8992dc77ac\n",
      "Chunk Score:  anyof_schema_1_validator=0.9841269841269842 anyof_schema_2_validator=None actual_instance=0.9841269841269842 any_of_schemas=typing.Literal['float', 'object']\n",
      "Chunk Metadata:  metadata={'title': 'A practical introduction to python 3', 'authors': 'David Amos, Dan Bader, Joanna Jablonski, Fletcher Heisler', '_indexed_at': '2024-03-21T16:06:06.926289', 'source_id': '2350732e5d1a15c9df7d70e39c948c312efbd93b858a898dc3d02893221cca4d', 'empty': 0}\n",
      "--------------------\n",
      "Chunk Content:  Authors\n",
      "AtReal Python you’ll learn real-world programming skills from a com-munity of professional Pythonistas from all around the world.\n",
      "The realpython.com website launched in 2012 and currently helpsmore than three million Python developers each month with freeprogramming tutorials and in-depth learning resources.\n",
      "\n",
      "Everyone whoworked on this book is a practitionerwith several yearsof professional experience in the software industry. Here are themem-bers of the Real Python tutorial team who worked on Python Basics:\n",
      "DavidAmos is the content technical lead forReal Python. After leav-ing academia in 2015, David worked in various technical positions asa programmer and data scientist. In 2019, David joined Real Pythonfull time to pursue his passion for education. He lead the charge onrewriting and updating the Python Basics curriculum to Python 3.\n",
      "Dan Bader is the owner and editor in chief of Real Python and themain developer of the realpython.com learning platform. Dan hasbeen writing cod\n",
      "--------------------------------------------------------------------------------\n",
      "Chunk ID: 217d0ed9b322613c5ee7ac22d29db90ba38c81b769bd0db9be3ba97e2f9a597d\n",
      "Chunk Score:  anyof_schema_1_validator=0.9765625000000001 anyof_schema_2_validator=None actual_instance=0.9765625000000001 any_of_schemas=typing.Literal['float', 'object']\n",
      "Chunk Metadata:  metadata={'title': 'A practical introduction to python 3', 'authors': 'David Amos, Dan Bader, Joanna Jablonski, Fletcher Heisler', '_indexed_at': '2024-03-21T16:06:06.926289', 'source_id': '2350732e5d1a15c9df7d70e39c948c312efbd93b858a898dc3d02893221cca4d', 'empty': 0}\n",
      "--------------------\n",
      "Chunk Content:   your variable names inlower_case_with_underscores. The practice is codified, though, in adocument called PEP 8, which is widely regarded as the official styleguide for writing Python.\n",
      "\n",
      "54\n",
      "\n",
      "https://pep8.org\n",
      "\n",
      "\n",
      "3.4. Inspect Values in the Interactive Window\n",
      "Note\n",
      "PEP stands for Python Enhancement Proposal. A PEP is a de-sign document used by the Python community to propose newfeatures to the language.\n",
      "\n",
      "Following the standards outlined in PEP 8 ensures that your Pythoncode is readable by most Python programmers. This makes sharingcode and collaborating with other people easier for everyone involved.\n",
      "Review Exercises\n",
      "You can nd the solutions to these exercises and many other bonusresources online at realpython.com/python-basics/resources\n",
      "1. Using the interactive window, display some text using print().\n",
      "2. Using the interactive window, assign a \n",
      "--------------------------------------------------------------------------------\n",
      "Chunk ID: c21c71d914b34f205c8554ac76d1ec990cf88a95f7ef8ea24775bdfadfb7872a\n",
      "Chunk Score:  anyof_schema_1_validator=0.4919354838709677 anyof_schema_2_validator=None actual_instance=0.4919354838709677 any_of_schemas=typing.Literal['float', 'object']\n",
      "Chunk Metadata:  metadata={'title': 'A practical introduction to python 3', 'authors': 'David Amos, Dan Bader, Joanna Jablonski, Fletcher Heisler', '_indexed_at': '2024-03-21T16:06:06.926289', 'source_id': '2350732e5d1a15c9df7d70e39c948c312efbd93b858a898dc3d02893221cca4d'}\n",
      "--------------------\n",
      "Chunk Content:  this do?” When you haven’t looked at code in a while,it can be difficult to remember why you wrote it the way you did!\n",
      "To help avoid this problem, you can leave comments in your code.Comments are lines of text that don’t affect the way a program runs.They document what code does or why the programmer made certaindecisions.\n",
      "How toWrite a Comment\n",
      "The most common way to write a comment is to begin a new line inyour code with the # character. When you run your code, Python ig-nores lines starting with #.\n",
      "Comments that start on a new line are called block comments. Youcan also write inline comments, which are comments that appearon the same line as the code they reference. Just put a # at the end ofthe line of code, followed by the text in your comment.\n",
      "Here’s an example of a program with both kinds of comments:\n",
      "# This is a block comment.\n",
      "\n",
      "greeting = \"Hello, World\"\n",
      "\n",
      "print(greeting) # This is an inline comment.\n",
      "\n",
      "Of course, you can still use the # symbol inside a string. For instance,Python w\n",
      "--------------------------------------------------------------------------------\n",
      "Chunk ID: d5ef3dfc600f41b186cd9a8a99174611b2f0000e9256671763cab0172a5fd7c3\n",
      "Chunk Score:  anyof_schema_1_validator=0.4919354838709677 anyof_schema_2_validator=None actual_instance=0.4919354838709677 any_of_schemas=typing.Literal['float', 'object']\n",
      "Chunk Metadata:  metadata={'title': 'A practical introduction to python 3', 'authors': 'David Amos, Dan Bader, Joanna Jablonski, Fletcher Heisler', '_indexed_at': '2024-03-21T16:06:06.926289', 'source_id': '2350732e5d1a15c9df7d70e39c948c312efbd93b858a898dc3d02893221cca4d', 'empty': 0}\n",
      "--------------------\n",
      "Chunk Content:  . . . . . . . . . . . . . 29911.2 Working With Packages . . . . . . . . . . . . . . . . 31011.3 Summary and Additional Resources . . . . . . . . . 318\n",
      "12 File Input and Output 32012.1 Files and the File System . . . . . . . . . . . . . . . 32112.2 Working With File Paths in Python . . . . . . . . . . 32412.3 Common File System Operations . . . . . . . . . . . 33312.4 Challenge: Move All Image Files to a New Directory . 350\n",
      "\n",
      "10\n",
      "\n",
      "\n",
      "\n",
      "Contents\n",
      "12.5 Reading and Writing Files . . . . . . . . . . . . . . 35112.6 Read and Write CSV Data . . . . . . . . . . . . . . . 36612.7 Challenge: Create a High Scores List . . . . . . . . . 37712.8 Summary and Additional Resources . . . . . . . . . 378\n",
      "\n",
      "13 Installing Packages With pip 37913.1 Installing Third-Party Packages With pip . . . . . . . 38013.2 The Pitfalls of Third-Party Packages . . . . . . . . . 39013.3 Summary and Additional Resources . . . . . . . . . 392\n",
      "14 Creating and Modifying PDF Files 39414.1 Extracting Text From a PDF . . . . \n",
      "--------------------------------------------------------------------------------\n",
      "Chunk ID: b9fa143fda4b90836b6a2d262f3f52988c341f7751aefbf620153b83ff965b32\n",
      "Chunk Score:  anyof_schema_1_validator=0.4841269841269841 anyof_schema_2_validator=None actual_instance=0.4841269841269841 any_of_schemas=typing.Literal['float', 'object']\n",
      "Chunk Metadata:  metadata={'title': 'A practical introduction to python 3', 'authors': 'David Amos, Dan Bader, Joanna Jablonski, Fletcher Heisler', '_indexed_at': '2024-03-21T16:06:06.926289', 'source_id': '2350732e5d1a15c9df7d70e39c948c312efbd93b858a898dc3d02893221cca4d', 'empty': 0}\n",
      "--------------------\n",
      "Chunk Content:   . . 46916.3 Interact \n",
      "--------------------------------------------------------------------------------\n"
     ]
    }
   ],
   "source": [
    "# Define the query you want to search for\n",
    "query = \"Who are the authors of the document\"\n",
    "\n",
    "# Define the number of top results you want to retrieve\n",
    "top_k = 5  # Adjust as needed\n",
    "\n",
    "# Perform the search\n",
    "search_response = retriever.search_collection(collection.id, query, top_k)\n",
    "\n",
    "# Process and print the search results\n",
    "for chunk in search_response.chunks:\n",
    "    print(\"Chunk ID: \" + chunk.id)\n",
    "    print(\"Chunk Score: \",chunk.score)\n",
    "    print(\"Chunk Metadata: \",chunk.metadata)\n",
    "    print(\"-\"*20)\n",
    "    print(\"Chunk Content: \",chunk.content)\n",
    "    print(\"-\" * 80)"
   ]
  },
  {
   "cell_type": "markdown",
   "metadata": {},
   "source": [
    "## Create a simple langchain example\n",
    "Reference: https://www.pinecone.io/learn/series/langchain/langchain-expression-language/\n",
    "Reference: https://python.langchain.com/docs/expression_language/how_to/map"
   ]
  },
  {
   "cell_type": "code",
   "execution_count": 45,
   "metadata": {},
   "outputs": [
    {
     "name": "stdout",
     "output_type": "stream",
     "text": [
      "Context ** {'context': \"Chunk ID: 086187b251d69289c48f58942b121a0517e667edff7a1d4442e89a167bcc7190\\nChunk Score: anyof_schema_1_validator=0.4841269841269841 anyof_schema_2_validator=None actual_instance=0.4841269841269841 any_of_schemas=typing.Literal['float', 'object']\\nChunk Metadata: metadata={'title': 'A practical introduction to python 3', 'authors': 'David Amos, Dan Bader, Joanna Jablonski, Fletcher Heisler', '_indexed_at': '2024-03-21T16:06:06.926289', 'source_id': '2350732e5d1a15c9df7d70e39c948c312efbd93b858a898dc3d02893221cca4d'}\\n--------------------\\nChunk Content: Youmight be surprised byhowmanyprofessional productsare built on Python code: Instagram, YouTube, Reddit, Spotify, toname just a few.\\nPython is not only a friendly and fun language to learn, but it also pow-ers the technology behind multiple world-class companies and offersfantastic career opportunities for any programmer who masters it.\\n\\n1.1 Why This Book?\\nLet’s face it: there’s an overwhelming amount of information aboutPython on the Internet. But many beginners studying on their ownhave trouble figuring out what to learn and in what order to learn it.\\n\\n21\\n\\n\\n\\n1.1. Why This Book?\\nYou may be asking yourself, What should I learn about Python in thebeginning to get a strong foundation? If so, then this book is for you,no matter if you’re a complete beginner or if you’ve already dabbledin Python or other languages.\\nPython Basics is written in plain English and breaks down the coreconcepts that you really need to know into bite-sized chunks. Thismeans you’ll learn enough to be dangerous wi\\n--------------------------------------------------------------------------------\", 'question': 'What is the book about?'}\n",
      "Prompt ** messages=[HumanMessage(content=\"Answer the question below using the context, ONLY use the context. Do no hallucinate.\\n\\nContext: Chunk ID: 086187b251d69289c48f58942b121a0517e667edff7a1d4442e89a167bcc7190\\nChunk Score: anyof_schema_1_validator=0.4841269841269841 anyof_schema_2_validator=None actual_instance=0.4841269841269841 any_of_schemas=typing.Literal['float', 'object']\\nChunk Metadata: metadata={'title': 'A practical introduction to python 3', 'authors': 'David Amos, Dan Bader, Joanna Jablonski, Fletcher Heisler', '_indexed_at': '2024-03-21T16:06:06.926289', 'source_id': '2350732e5d1a15c9df7d70e39c948c312efbd93b858a898dc3d02893221cca4d'}\\n--------------------\\nChunk Content: Youmight be surprised byhowmanyprofessional productsare built on Python code: Instagram, YouTube, Reddit, Spotify, toname just a few.\\nPython is not only a friendly and fun language to learn, but it also pow-ers the technology behind multiple world-class companies and offersfantastic career opportunities for any programmer who masters it.\\n\\n1.1 Why This Book?\\nLet’s face it: there’s an overwhelming amount of information aboutPython on the Internet. But many beginners studying on their ownhave trouble figuring out what to learn and in what order to learn it.\\n\\n21\\n\\n\\n\\n1.1. Why This Book?\\nYou may be asking yourself, What should I learn about Python in thebeginning to get a strong foundation? If so, then this book is for you,no matter if you’re a complete beginner or if you’ve already dabbledin Python or other languages.\\nPython Basics is written in plain English and breaks down the coreconcepts that you really need to know into bite-sized chunks. Thismeans you’ll learn enough to be dangerous wi\\n--------------------------------------------------------------------------------\\n\\nQuestion: What is the book about?\\n\\nAnswer: \")]\n"
     ]
    },
    {
     "data": {
      "text/plain": [
       "'The book is about Python programming, titled \"A practical introduction to python 3\". It is written for beginners who want to learn Python and are facing difficulties in figuring out what to learn and in what order to learn it. The book is written in plain English and covers the core concepts of Python in a beginner-friendly manner.'"
      ]
     },
     "execution_count": 45,
     "metadata": {},
     "output_type": "execute_result"
    }
   ],
   "source": [
    "#from langchain_openai import ChatOpenAI\n",
    "from langchain_core.prompts import ChatPromptTemplate\n",
    "from langchain_core.output_parsers import StrOutputParser\n",
    "from langchain_core.runnables import RunnablePassthrough\n",
    "from functools import partial\n",
    "\n",
    "from langchain_core.runnables import (\n",
    "    RunnableParallel,\n",
    "    RunnablePassthrough,\n",
    "    RunnableLambda\n",
    ")\n",
    "\n",
    "def RPrint(preface=\"\"):\n",
    "    \"\"\"Simple passthrough \"prints, then returns\" chain\"\"\"\n",
    "    def print_and_return(x, preface):\n",
    "        print(f\"{preface}{x}\")\n",
    "        return x\n",
    "    return RunnableLambda(partial(print_and_return, preface=preface))\n",
    "    \n",
    "def custom_retriever(query):\n",
    "    # Your retrieval logic goes here, which takes the query and returns context content\n",
    "    # For example, you might fetch data from a database or an API\n",
    "    search_response = retriever.search_collection(collection.id, query, top_k)\n",
    "    output = \"\"\n",
    "    # Process and print the search results\n",
    "    for chunk in search_response.chunks:\n",
    "        output = \"Chunk ID: \" + str(chunk.id) + \"\\n\"\n",
    "        output = output + \"Chunk Score: \" + str(chunk.score) + \"\\n\"\n",
    "        output = output + \"Chunk Metadata: \" + str(chunk.metadata) + \"\\n\"\n",
    "        output = output + \"-\"*20 + \"\\n\"\n",
    "        output = output + \"Chunk Content: \" + str(chunk.content) + \"\\n\"\n",
    "        output = output + \"-\"*80\n",
    "    return output\n",
    "\n",
    "\n",
    "prompt_str = \"\"\"Answer the question below using the context, ONLY use the context. Do no hallucinate.\n",
    "\n",
    "Context: {context}\n",
    "\n",
    "Question: {question}\n",
    "\n",
    "Answer: \"\"\"\n",
    "prompt = ChatPromptTemplate.from_template(prompt_str)\n",
    "\n",
    "\n",
    "retrieval_chain = (\n",
    "    {\"context\": custom_retriever, \"question\": RunnablePassthrough()} |\n",
    "     RPrint(\"Context ** \") |\n",
    "     prompt |\n",
    "     RPrint(\"Prompt ** \") |\n",
    "     model |\n",
    "     StrOutputParser()\n",
    ")\n",
    "#chain = retrieval | prompt | model | StrOutputParser\n",
    "retrieval_chain.invoke(\"What is the book about?\")"
   ]
  },
  {
   "cell_type": "markdown",
   "metadata": {},
   "source": [
    "#### Ask another question"
   ]
  },
  {
   "cell_type": "code",
   "execution_count": 46,
   "metadata": {},
   "outputs": [
    {
     "name": "stdout",
     "output_type": "stream",
     "text": [
      "Context ** {'context': \"Chunk ID: f4ee6055677cbd6e6e96115ac6843d398ea397dc994fa38471691fdcec2a42ec\\nChunk Score: anyof_schema_1_validator=0.4841269841269841 anyof_schema_2_validator=None actual_instance=0.4841269841269841 any_of_schemas=typing.Literal['float', 'object']\\nChunk Metadata: metadata={'title': 'A practical introduction to python 3', 'authors': 'David Amos, Dan Bader, Joanna Jablonski, Fletcher Heisler', '_indexed_at': '2024-03-21T16:06:06.926289', 'source_id': '2350732e5d1a15c9df7d70e39c948c312efbd93b858a898dc3d02893221cca4d'}\\n--------------------\\nChunk Content: Geometry Managers . . . . 57318.7 Making Your Applications Interactive . . . . . . . . 59218.8 Example App: Temperature Converter . . . . . . . . 60218.9 Example App: Text Editor . . . . . . . . . . . . . . 60718.10 Challenge: Return of the Poet . . . . . . . . . . . . . 61618.11 Summary and Additional Resources . . . . . . . . . 618\\n19 Final Thoughts and Next Steps 62019.1 Free Weekly Tips for Python Developers . . . . . . . 62219.2 Python Tricks: The Book . . . . . . . . . . . . . . . 62219.3 Real Python Video Course Library . . . . . . . . . . 62319.4 Acknowledgements . . . . . . . . . . . . . . . . . . 624\\n\\n12\\n\\n\\n\\nForeword\\nHello, and welcome to Python Basics: A Practical Introduction toPython 3. I hope you’re ready to learn why so many professional andhobbyist developers are drawn to Python and how you can beginusing it on your own projects, small and large, right away.\\nThis book is targeted at beginners who either know a little program-ming but not the Python language and ecosystem\\n--------------------------------------------------------------------------------\", 'question': 'Who are the authors of the book?'}\n",
      "Prompt ** messages=[HumanMessage(content=\"Answer the question below using the context, ONLY use the context. Do no hallucinate.\\n\\nContext: Chunk ID: f4ee6055677cbd6e6e96115ac6843d398ea397dc994fa38471691fdcec2a42ec\\nChunk Score: anyof_schema_1_validator=0.4841269841269841 anyof_schema_2_validator=None actual_instance=0.4841269841269841 any_of_schemas=typing.Literal['float', 'object']\\nChunk Metadata: metadata={'title': 'A practical introduction to python 3', 'authors': 'David Amos, Dan Bader, Joanna Jablonski, Fletcher Heisler', '_indexed_at': '2024-03-21T16:06:06.926289', 'source_id': '2350732e5d1a15c9df7d70e39c948c312efbd93b858a898dc3d02893221cca4d'}\\n--------------------\\nChunk Content: Geometry Managers . . . . 57318.7 Making Your Applications Interactive . . . . . . . . 59218.8 Example App: Temperature Converter . . . . . . . . 60218.9 Example App: Text Editor . . . . . . . . . . . . . . 60718.10 Challenge: Return of the Poet . . . . . . . . . . . . . 61618.11 Summary and Additional Resources . . . . . . . . . 618\\n19 Final Thoughts and Next Steps 62019.1 Free Weekly Tips for Python Developers . . . . . . . 62219.2 Python Tricks: The Book . . . . . . . . . . . . . . . 62219.3 Real Python Video Course Library . . . . . . . . . . 62319.4 Acknowledgements . . . . . . . . . . . . . . . . . . 624\\n\\n12\\n\\n\\n\\nForeword\\nHello, and welcome to Python Basics: A Practical Introduction toPython 3. I hope you’re ready to learn why so many professional andhobbyist developers are drawn to Python and how you can beginusing it on your own projects, small and large, right away.\\nThis book is targeted at beginners who either know a little program-ming but not the Python language and ecosystem\\n--------------------------------------------------------------------------------\\n\\nQuestion: Who are the authors of the book?\\n\\nAnswer: \")]\n"
     ]
    },
    {
     "data": {
      "text/plain": [
       "\"The authors of the book are David Amos, Dan Bader, Joanna Jablonski, and Fletcher Heisler. This information can be found in the Chunk Metadata, in the 'authors' field.\""
      ]
     },
     "execution_count": 46,
     "metadata": {},
     "output_type": "execute_result"
    }
   ],
   "source": [
    "#chain = retrieval | prompt | model | StrOutputParser\n",
    "retrieval_chain.invoke(\"Who are the authors of the book?\")"
   ]
  },
  {
   "cell_type": "markdown",
   "metadata": {},
   "source": [
    "#### Delete the collection created in this notebook"
   ]
  },
  {
   "cell_type": "code",
   "execution_count": 47,
   "metadata": {},
   "outputs": [
    {
     "name": "stdout",
     "output_type": "stream",
     "text": [
      "Collection 'testCollection' deleted successfully.\n"
     ]
    }
   ],
   "source": [
    "try:\n",
    "    retriever.delete_collection(collection_id)\n",
    "    print(f\"Collection '{collection.name}' deleted successfully.\")\n",
    "except Exception as e:\n",
    "    print(f\"Failed to delete collection '{collection.name}': {str(e)}\")"
   ]
  }
 ],
 "metadata": {
  "kernelspec": {
   "display_name": "Python 3 (ipykernel)",
   "language": "python",
   "name": "python3"
  },
  "language_info": {
   "codemirror_mode": {
    "name": "ipython",
    "version": 3
   },
   "file_extension": ".py",
   "mimetype": "text/x-python",
   "name": "python",
   "nbconvert_exporter": "python",
   "pygments_lexer": "ipython3",
   "version": "3.10.12"
  }
 },
 "nbformat": 4,
 "nbformat_minor": 4
}
