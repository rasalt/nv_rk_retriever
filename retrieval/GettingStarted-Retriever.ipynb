{
 "cells": [
  {
   "cell_type": "markdown",
   "metadata": {},
   "source": [
    "## Nemo Retrieval Microservice Tutorial\n",
    "### Implementing using LCEL\n",
    "\n",
    "This notebook provides a simple end-to-end example of how to use Nemo Retreiver Microservice APIs.\n",
    "# Getting Started with the Nemo Retriever \"Retriever\" microservice\n",
    "|rkharwar@nvidia.com| Author(s) | [Ruchika Kharwar](https://github.com/rasalt)\n",
    "\n",
    "NOTE: This notebook has been tested in the following environment:\n",
    "Python version = 3.10.8"
   ]
  },
  {
   "cell_type": "markdown",
   "metadata": {},
   "source": [
    "## Pipelines \n",
    "\n",
    "A pipeline is an end-to-end retrieval function using Nvidia Retriever Microservice.\n",
    "This system is accessed via a set of API calls/Client library\n",
    "\n",
    "Here we list the pipeline names along with their status and the embedding model the pipeline is using. Notice the document store being used on the backend is part of the pipeline name. \n",
    "\n",
    "There are other properties of the pipelines (chunking strategy) which can also be viewed by printing out the entire pipeline object."
   ]
  },
  {
   "cell_type": "markdown",
   "metadata": {},
   "source": [
    "## Overview\n",
    "\n",
    "<> \n",
    "\n",
    "## Objective\n",
    "This notebook aims to show you how to leverage a freshly deployed \"embedding micro-service\".\n",
    "These examples aim to be building blocks of the larger solution you will likley have in place for yout Generative AI use case.\n",
    "\n",
    "## Before you begin\n",
    "### Set up your environment.\n",
    "Refer to page <> for details on how to deploy the service.\n",
    "You should have docker services running in your environment thus  \n",
    "\n",
    "docker                         dockerd                        dockerd-rootless-setuptool.sh  dockerd-rootless.sh            docker-proxy                   \n",
    "nvidia@dev-h100-rkharwar-gpu01:~/retriever_03182024/docker-compose$ docker compose -f \n",
    "config/                      docker-compose-ea.yaml       docker-compose-nemollm.yaml  models/                      models_orig/                 volumes/                     \n",
    "nvidia@dev-h100-rkharwar-gpu01:~/retriever_03182024/docker-compose$ docker compose -f docker-compose-ea.yaml ps\n",
    "NAME                              IMAGE                                                                              COMMAND                  SERVICE          CREATED        STATUS                    PORTS\n",
    "docker-compose-elasticsearch-1    docker.elastic.co/elasticsearch/elasticsearch:8.12.0                               \"/bin/tini -- /usr/l…\"   elasticsearch    21 hours ago   Up 21 hours (healthy)     0.0.0.0:9200->9200/tcp, :::9200->9200/tcp, 9300/tcp\n",
    "docker-compose-embedding-ms-1     nvcr.io/ohlfw0olaadg/ea-participants/nemo-retriever-embedding-microservice:24.02   \"/opt/nvidia/nvidia_…\"   embedding-ms     21 hours ago   Up 21 hours (healthy)     \n",
    "docker-compose-etcd-1             quay.io/coreos/etcd:v3.5.11                                                        \"etcd -advertise-cli…\"   etcd             21 hours ago   Up 21 hours (healthy)     2379-2380/tcp\n",
    "docker-compose-milvus-1           milvusdb/milvus:v2.3.5                                                             \"/tini -- milvus run…\"   milvus           21 hours ago   Up 21 hours (healthy)     \n",
    "docker-compose-minio-1            minio/minio:RELEASE.2023-03-20T20-16-18Z                                           \"/usr/bin/docker-ent…\"   minio            21 hours ago   Up 21 hours (healthy)     9000/tcp\n",
    "docker-compose-otel-collector-1   otel/opentelemetry-collector-contrib:0.91.0                                        \"/otelcol-contrib --…\"   otel-collector   21 hours ago   Up 21 hours               0.0.0.0:4317->4317/tcp, :::4317->4317/tcp, 0.0.0.0:13133->13133/tcp, :::13133->13133/tcp, 0.0.0.0:55679->55679/tcp, :::55679->55679/tcp, 55678/tcp\n",
    "docker-compose-postgres-1         postgres:16.1                                                                      \"docker-entrypoint.s…\"   postgres         21 hours ago   Up 21 hours               0.0.0.0:5432->5432/tcp, :::5432->5432/tcp\n",
    "docker-compose-retrieval-ms-1     nvcr.io/ohlfw0olaadg/ea-participants/nemo-retriever-microservice:24.02             \"/usr/bin/shelless_u…\"   retrieval-ms     21 hours ago   Up 21 hours (unhealthy)   0.0.0.0:1984->8000/tcp, :::1984->8000/tcp\n",
    "docker-compose-tika-1             apache/tika:2.9.1.0                                                                \"/bin/sh -c 'exec ja…\"   tika             21 hours ago   Up 21 hours               0.0.0.0:9998->9998/tcp, :::9998->9998/tcp\n",
    "docker-compose-zipkin-1           openzipkin/zipkin:3.0.6                                                            \"start-zipkin\"           zipkin           21 hours ago   Up 21 hours (healthy)     9410/tcp, 0.0.0.0:9411->9411/tcp, :::9411->9411/tcp"
   ]
  },
  {
   "cell_type": "markdown",
   "metadata": {},
   "source": [
    "### Setup the Nemo retriever\n",
    "- Initialize Client\n",
    "- List the collections that exist"
   ]
  },
  {
   "cell_type": "code",
   "execution_count": 7,
   "metadata": {},
   "outputs": [
    {
     "name": "stdout",
     "output_type": "stream",
     "text": [
      "These collections exists: \n"
     ]
    }
   ],
   "source": [
    "from nemo_retriever.retriever_client import RetrieverClient\n",
    "from pprint import pprint\n",
    "\n",
    "retriever = RetrieverClient(base_url=\"http://localhost:1984\")\n",
    "\n",
    "# GET collections: list all created collections\n",
    "collections_response = retriever.get_collections()\n",
    "collections = collections_response.collections\n",
    "\n",
    "print(\"These collections exists: \")\n",
    "\n",
    "for collection in collections:\n",
    "    print(f\"Collection '{collection.name}'\")"
   ]
  },
  {
   "cell_type": "markdown",
   "metadata": {},
   "source": [
    "### Create collection and add files\n",
    "- Create Colection \"testCollection\"\n",
    "- Add a pdf\n",
    "- Add a text"
   ]
  },
  {
   "cell_type": "code",
   "execution_count": 8,
   "metadata": {},
   "outputs": [
    {
     "name": "stdout",
     "output_type": "stream",
     "text": [
      "Collection id 80c9026e-42b6-4910-bc07-2442848b13bc created\n",
      "Added file 1: 2350732e5d1a15c9df7d70e39c948c312efbd93b858a898dc3d02893221cca4d to the collection\n",
      "Added text string: c18f09aa335fa6b87885cb04f5aecd5fdd3591c960f85c255b18d76ecae84573 to the collection\n"
     ]
    }
   ],
   "source": [
    "# Create a collection specificying the pipeline type\n",
    "response = retriever.create_collection(pipeline=\"hybrid\", name=\"testCollection\")\n",
    "collection_id = response.collection.id  # store ID of the newly created collection\n",
    "print(\"Collection id {} created\".format(collection_id))\n",
    "\n",
    "# Add a pdf with metadata to the collection \n",
    "FILE1 = \"./files/python-basics-sample-chapters.pdf\"\n",
    "try:\n",
    "\n",
    "    my_document_string = \"Alice's favorite color is green. Her favorite ice cream is mint chip. She lives in Kansas.\"\n",
    "    response = retriever.add_document(collection_id=collection_id,\n",
    "                                       filepath=FILE1,\n",
    "                                       format=\"pdf\",\n",
    "                                       metadata={\"title\": \"A practical introduction to python 3\",\n",
    "                                                 \"authors\": \"David Amos, Dan Bader, Joanna Jablonski, Fletcher Heisler\"})\n",
    "    \n",
    "    created_document_id_1 = response.documents[0].id\n",
    "    print(\"Added file 1: {} to the collection\".format(created_document_id_1))\n",
    "\n",
    "except Exception as e:\n",
    "    print(\"An error occurred while adding a document (PDF):\", e)\n",
    "\n",
    "\n",
    "# Add a text string to the collection\n",
    "STRING1 = \"Alice's favorite color is green. Her favorite ice cream is mint chip. She lives in Kansas.\"\n",
    "try:\n",
    "\n",
    "    response = retriever.add_document(collection_id=collection_id,\n",
    "                                       content=STRING1,\n",
    "                                       format=\"txt\",\n",
    "                                       metadata={\"title\": \"A practical introduction to python 3\",\n",
    "                                                 \"authors\": \"David Amos, Dan Bader, Joanna Jablonski, Fletcher Heisler\"})\n",
    "    \n",
    "    created_document_id_2 = response.documents[0].id\n",
    "    print(\"Added text string: {} to the collection\".format(created_document_id_2))\n",
    "\n",
    "except Exception as e:\n",
    "    print(\"An error occurred while adding a document (PDF):\", e)"
   ]
  },
  {
   "cell_type": "markdown",
   "metadata": {},
   "source": [
    "### Query the collection"
   ]
  },
  {
   "cell_type": "code",
   "execution_count": 22,
   "metadata": {},
   "outputs": [
    {
     "name": "stdout",
     "output_type": "stream",
     "text": [
      "Chunk ID: 16570a8fa8eb58b2ca2b0724cefbbe2304125102f08a44437c1f2c93c96fafcc\n",
      "Chunk Score:  anyof_schema_1_validator=0.5 anyof_schema_2_validator=None actual_instance=0.5 any_of_schemas=typing.Literal['float', 'object']\n",
      "Chunk Metadata:  metadata={'title': 'A practical introduction to python 3', 'authors': 'David Amos, Dan Bader, Joanna Jablonski, Fletcher Heisler', '_indexed_at': '2024-03-21T16:06:06.926289', 'source_id': '2350732e5d1a15c9df7d70e39c948c312efbd93b858a898dc3d02893221cca4d'}\n",
      "--------------------\n",
      "Chunk Content:  youmay encounter problemswhen running some of the code examples.\n",
      "\n",
      "37\n",
      "\n",
      "https://realpython.com/quizzes/pybasics-setup/\n",
      "\n",
      "\n",
      "2.4. Ubuntu Linux\n",
      "Install Python\n",
      "There’s a good chance that your Ubuntu distribution already hasPython installed, but it probably won’t be the latest version, and itmay be Python 2 instead of Python 3.\n",
      "To find out what version(s) you have, open a terminal window and trythe following commands:\n",
      "$ python --version\n",
      "\n",
      "$ python3 --version\n",
      "\n",
      "One or more of these commands should respond with a version, asbelow:\n",
      "$ python3 --version\n",
      "\n",
      "Python 3.9.0\n",
      "\n",
      "Your version number may vary. If the version shown is Python 2.xor a version of Python 3 that is less than 3.9, then you want to in-stall the latest version. How you install Python on Ubuntu dependson which version of Ubuntu you’re running. You can determine yourlocal Ubuntu version by running the following command:\n",
      "$ lsb_release -a\n",
      "\n",
      "No LSB modules are available.\n",
      "\n",
      "Distributor ID: Ubuntu\n",
      "\n",
      "Description: Ubuntu 18.04.1 LTS\n",
      "\n",
      "Release: 18.04\n",
      "\n",
      "C\n",
      "--------------------------------------------------------------------------------\n",
      "Chunk ID: 3358a5c8f4c9eb61cd5256112e131153124a3223339ad25ee15b9205409b4fa5\n",
      "Chunk Score:  anyof_schema_1_validator=0.5 anyof_schema_2_validator=None actual_instance=0.5 any_of_schemas=typing.Literal['float', 'object']\n",
      "Chunk Metadata:  metadata={'title': 'A practical introduction to python 3', 'authors': 'David Amos, Dan Bader, Joanna Jablonski, Fletcher Heisler', '_indexed_at': '2024-03-21T16:06:06.926289', 'source_id': '2350732e5d1a15c9df7d70e39c948c312efbd93b858a898dc3d02893221cca4d', 'empty': 0}\n",
      "--------------------\n",
      "Chunk Content:  of yourown.\n",
      "No matter what your ultimate goals may be, if you work with a com-puter at all, then you’ll soon be finding endless ways to improve yourlife by automating tasks and solving problems through Python pro-grams that you create.\n",
      "But what’s so great about Python as a programming language? Forone, Python is open source freeware, meaning you can download itfor free and use it for any purpose, commercial or not.\n",
      "Python also has an amazing community that has built a number ofuseful tools that you can use in your own programs. Need to workwith PDF documents? There’s a comprehensive tool for that. Want tocollect data from web pages? No need to start from scratch!\n",
      "\n",
      "20\n",
      "\n",
      "\n",
      "\n",
      "1.1. Why This Book?\n",
      "Python was built to be easier to use than other programming lan-guages. It’s usually much easier to read Python code and much fasterto write code in Python than in other languages.\n",
      "For instance, here’s some basic code written in C, another commonlyused programming language:\n",
      "#include <stdio.h>\n",
      "\n",
      "int ma\n",
      "--------------------------------------------------------------------------------\n",
      "Chunk ID: cf08e3454f3f593af3ed3d0ae947ead7b118a073cd779d21bfbefab5691e8d3e\n",
      "Chunk Score:  anyof_schema_1_validator=0.4919354838709677 anyof_schema_2_validator=None actual_instance=0.4919354838709677 any_of_schemas=typing.Literal['float', 'object']\n",
      "Chunk Metadata:  metadata={'title': 'A practical introduction to python 3', 'authors': 'David Amos, Dan Bader, Joanna Jablonski, Fletcher Heisler', '_indexed_at': '2024-03-21T16:06:06.926289', 'source_id': '2350732e5d1a15c9df7d70e39c948c312efbd93b858a898dc3d02893221cca4d'}\n",
      "--------------------\n",
      "Chunk Content:  of Python that comes with youroperating system is called the system Python.\n",
      "The systemPython is used by your operating system and is usually outof date. It’s essential that you have the most recent version of Pythonso that you can successfully follow along with the examples in thisbook.\n",
      "\n",
      "Important\n",
      "Do not attempt to uninstall the system Python!\n",
      "\n",
      "You can have multiple versions of Python installed on your computer.In this chapter, you’ll install the latest version of Python 3 alongsideany system Python that may already exist on your machine.\n",
      "Note\n",
      "Even if you already have Python 3.9 installed, it’s still a goodidea to skim this chapter to double-check that your environ-ment is set up for following along with this book.\n",
      "\n",
      "This chapter is split into three sections: Windows, macOS, andUbuntu Linux. Find the section for your operating system and followthe steps to get set up, then skip ahead to the next chapter.\n",
      "If you have a different operating system, then check out Real Python’s“Python 3 Ins\n",
      "--------------------------------------------------------------------------------\n",
      "Chunk ID: 95a56d09046b886669b76f2af832cddf743505184fb9eff5cb043049b626cfa7\n",
      "Chunk Score:  anyof_schema_1_validator=0.4919354838709677 anyof_schema_2_validator=None actual_instance=0.4919354838709677 any_of_schemas=typing.Literal['float', 'object']\n",
      "Chunk Metadata:  metadata={'title': 'A practical introduction to python 3', 'authors': 'David Amos, Dan Bader, Joanna Jablonski, Fletcher Heisler', '_indexed_at': '2024-03-21T16:06:06.926289', 'source_id': '2350732e5d1a15c9df7d70e39c948c312efbd93b858a898dc3d02893221cca4d', 'empty': 0}\n",
      "--------------------\n",
      "Chunk Content:  requests, it’soften described as having batteries included.\n",
      "\n",
      "15\n",
      "\n",
      "\n",
      "\n",
      "Contents\n",
      "So there you have a simple yet powerful starter example. On the real-world side of things, many incredible applications have been writtenin Python as well.\n",
      "YouTube, the world’s most popular video streaming site, is written inPython and processes more than amillion requests per second. Insta-gram is another example of a Python application. Closer to home, weeven have realpython.com and my sites, such as talkpython.fm.\n",
      "This full-spectrum aspect of Python means that you can start withthe basics and adopt more advanced features as your application de-mands grow.\n",
      "Python Is Popular\n",
      "You might have heard that Python is popular. It may seem that itdoesn’t really matter \n",
      "--------------------------------------------------------------------------------\n",
      "Chunk ID: d61052c462b6da0cd3a360ca30fa3e3acb273ea482ab6f734cde7c7123769c3f\n",
      "Chunk Score:  anyof_schema_1_validator=0.4841269841269841 anyof_schema_2_validator=None actual_instance=0.4841269841269841 any_of_schemas=typing.Literal['float', 'object']\n",
      "Chunk Metadata:  metadata={'title': 'A practical introduction to python 3', 'authors': 'David Amos, Dan Bader, Joanna Jablonski, Fletcher Heisler', '_indexed_at': '2024-03-21T16:06:06.926289', 'source_id': '2350732e5d1a15c9df7d70e39c948c312efbd93b858a898dc3d02893221cca4d'}\n",
      "--------------------\n",
      "Chunk Content:  The exercises trulyhelped along the way and you feel very accomplished when you nishup the book. I think you have a gift for making Python seem moreattainable to people outside the programming world.\n",
      "This is something I never thought I would be doing or learning andwith a little push from you I am learning it and I can see that it will benothing but bene cial to me in the future!”\n",
      "— Shea Klusewicz\n",
      "\n",
      "“The authors of the courses have NOT forgotten what it is like to bea beginner – something that many authors do – and assume noth-ing about their readers, which makes the courses fantastic reads. Thecourses are also accompanied by some great videos as well as plentyof references for extra learning, homework assignments and examplecode that you can experiment with and extend.\n",
      "I really liked that there was always full code examples and each lineof code had good comments so you can see what is doing what.\n",
      "I now have a number of books on Python and the Real Python onesare the only ones I have ac\n",
      "--------------------------------------------------------------------------------\n"
     ]
    }
   ],
   "source": [
    "# Define the query you want to search for\n",
    "query = \"What is Python\"\n",
    "\n",
    "# Define the number of top results you want to retrieve\n",
    "top_k = 5  # Adjust as needed\n",
    "\n",
    "# Perform the search\n",
    "search_response = retriever.search_collection(collection_id, query, top_k)\n",
    "\n",
    "\n",
    "# Process and print the search results\n",
    "for chunk in search_response.chunks:\n",
    "    print(\"Chunk ID: \" + chunk.id)\n",
    "    print(\"Chunk Score: \",chunk.score)\n",
    "    print(\"Chunk Metadata: \",chunk.metadata)\n",
    "    print(\"-\"*20)\n",
    "    print(\"Chunk Content: \",chunk.content)\n",
    "    print(\"-\" * 80)\n",
    "    "
   ]
  },
  {
   "cell_type": "markdown",
   "metadata": {},
   "source": [
    "### Delete all collections"
   ]
  },
  {
   "cell_type": "code",
   "execution_count": 6,
   "metadata": {},
   "outputs": [
    {
     "name": "stdout",
     "output_type": "stream",
     "text": [
      "Collection 'testCollection' deleted successfully.\n",
      "Collection 'testCollection' deleted successfully.\n",
      "Collection 'testCollection' deleted successfully.\n"
     ]
    }
   ],
   "source": [
    "for collection in collections:\n",
    "    try:\n",
    "        retriever.delete_collection(collection.id)\n",
    "        print(f\"Collection '{collection.name}' deleted successfully.\")\n",
    "    except Exception as e:\n",
    "        print(f\"Failed to delete collection '{collection.name}': {str(e)}\")"
   ]
  },
  {
   "cell_type": "code",
   "execution_count": null,
   "metadata": {},
   "outputs": [],
   "source": []
  }
 ],
 "metadata": {
  "kernelspec": {
   "display_name": "Python 3 (ipykernel)",
   "language": "python",
   "name": "python3"
  },
  "language_info": {
   "codemirror_mode": {
    "name": "ipython",
    "version": 3
   },
   "file_extension": ".py",
   "mimetype": "text/x-python",
   "name": "python",
   "nbconvert_exporter": "python",
   "pygments_lexer": "ipython3",
   "version": "3.10.12"
  }
 },
 "nbformat": 4,
 "nbformat_minor": 4
}
